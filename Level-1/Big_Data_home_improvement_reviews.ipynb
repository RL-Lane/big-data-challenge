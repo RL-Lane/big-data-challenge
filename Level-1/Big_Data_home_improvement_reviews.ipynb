{
  "cells": [
    {
      "cell_type": "code",
      "execution_count": 1,
      "metadata": {
        "colab": {
          "base_uri": "https://localhost:8080/"
        },
        "id": "YgJZfVPC7UfR",
        "outputId": "6cc15201-9a99-4fd1-d794-40e7b2ba80f0"
      },
      "outputs": [
        {
          "name": "stdout",
          "output_type": "stream",
          "text": [
            "\r0% [Working]\r            \rHit:1 http://ppa.launchpad.net/c2d4u.team/c2d4u4.0+/ubuntu bionic InRelease\n",
            "\r0% [Connecting to archive.ubuntu.com (91.189.91.39)] [Connecting to security.ub\r0% [1 InRelease gpgv 15.9 kB] [Connecting to archive.ubuntu.com (91.189.91.39)]\r                                                                               \rHit:2 http://ppa.launchpad.net/cran/libgit2/ubuntu bionic InRelease\n",
            "\r0% [1 InRelease gpgv 15.9 kB] [Connecting to archive.ubuntu.com (91.189.91.39)]\r                                                                               \rGet:3 https://cloud.r-project.org/bin/linux/ubuntu bionic-cran40/ InRelease [3,626 B]\n",
            "\r0% [1 InRelease gpgv 15.9 kB] [Connecting to archive.ubuntu.com (91.189.91.39)]\r0% [1 InRelease gpgv 15.9 kB] [Connecting to archive.ubuntu.com (91.189.91.39)]\r                                                                               \rHit:4 http://ppa.launchpad.net/deadsnakes/ppa/ubuntu bionic InRelease\n",
            "Hit:5 http://ppa.launchpad.net/graphics-drivers/ppa/ubuntu bionic InRelease\n",
            "Get:6 http://security.ubuntu.com/ubuntu bionic-security InRelease [88.7 kB]\n",
            "Hit:7 http://archive.ubuntu.com/ubuntu bionic InRelease\n",
            "Get:8 http://archive.ubuntu.com/ubuntu bionic-updates InRelease [88.7 kB]\n",
            "Ign:9 https://developer.download.nvidia.com/compute/machine-learning/repos/ubuntu1804/x86_64  InRelease\n",
            "Hit:10 https://developer.download.nvidia.com/compute/cuda/repos/ubuntu1804/x86_64  InRelease\n",
            "Hit:11 https://developer.download.nvidia.com/compute/machine-learning/repos/ubuntu1804/x86_64  Release\n",
            "Get:12 http://archive.ubuntu.com/ubuntu bionic-backports InRelease [74.6 kB]\n",
            "Get:14 http://security.ubuntu.com/ubuntu bionic-security/restricted amd64 Packages [1,121 kB]\n",
            "Get:15 http://archive.ubuntu.com/ubuntu bionic-updates/main amd64 Packages [3,390 kB]\n",
            "Get:16 http://security.ubuntu.com/ubuntu bionic-security/main amd64 Packages [2,959 kB]\n",
            "Get:17 http://security.ubuntu.com/ubuntu bionic-security/universe amd64 Packages [1,540 kB]\n",
            "Get:18 http://archive.ubuntu.com/ubuntu bionic-updates/restricted amd64 Packages [1,162 kB]\n",
            "Fetched 10.4 MB in 3s (3,147 kB/s)\n",
            "Reading package lists... Done\n"
          ]
        }
      ],
      "source": [
        "import os\n",
        "# Find the latest version of spark 3.0  from http://www.apache.org/dist/spark/ and enter as the spark version\n",
        "# For example:\n",
        "# spark_version = 'spark-3.0.3'\n",
        "spark_version = 'spark-3.1.3'\n",
        "\n",
        "os.environ['SPARK_VERSION']=spark_version\n",
        "\n",
        "# Install Spark and Java\n",
        "!apt-get update\n",
        "!apt-get install openjdk-8-jdk-headless -qq > /dev/null\n",
        "!wget -q http://www.apache.org/dist/spark/$SPARK_VERSION/$SPARK_VERSION-bin-hadoop2.7.tgz\n",
        "!tar xf $SPARK_VERSION-bin-hadoop2.7.tgz\n",
        "!pip install -q findspark\n",
        "\n",
        "# Set Environment Variables\n",
        "os.environ[\"JAVA_HOME\"] = \"/usr/lib/jvm/java-8-openjdk-amd64\"\n",
        "os.environ[\"SPARK_HOME\"] = f\"/content/{spark_version}-bin-hadoop2.7\"\n",
        "\n",
        "# Start a SparkSession\n",
        "import findspark\n",
        "findspark.init()\n",
        "\n"
      ]
    },
    {
      "cell_type": "code",
      "execution_count": 2,
      "metadata": {
        "colab": {
          "base_uri": "https://localhost:8080/"
        },
        "id": "oxa8QwuX7Ywz",
        "outputId": "73097dda-1fe7-4d9a-bc30-1e449dde93ef"
      },
      "outputs": [
        {
          "name": "stdout",
          "output_type": "stream",
          "text": [
            "--2022-09-03 02:28:27--  https://jdbc.postgresql.org/download/postgresql-42.2.9.jar\n",
            "Resolving jdbc.postgresql.org (jdbc.postgresql.org)... 72.32.157.228, 2001:4800:3e1:1::228\n",
            "Connecting to jdbc.postgresql.org (jdbc.postgresql.org)|72.32.157.228|:443... connected.\n",
            "HTTP request sent, awaiting response... 200 OK\n",
            "Length: 914037 (893K) [application/java-archive]\n",
            "Saving to: ‘postgresql-42.2.9.jar’\n",
            "\n",
            "postgresql-42.2.9.j 100%[===================>] 892.61K  1.66MB/s    in 0.5s    \n",
            "\n",
            "2022-09-03 02:28:29 (1.66 MB/s) - ‘postgresql-42.2.9.jar’ saved [914037/914037]\n",
            "\n"
          ]
        }
      ],
      "source": [
        "!wget https://jdbc.postgresql.org/download/postgresql-42.2.9.jar"
      ]
    },
    {
      "cell_type": "code",
      "execution_count": 3,
      "metadata": {
        "id": "xhzylV7R8T8Z"
      },
      "outputs": [],
      "source": [
        "from pyspark.sql import SparkSession"
      ]
    },
    {
      "cell_type": "code",
      "execution_count": 4,
      "metadata": {
        "id": "Z9VEMaEY8djd"
      },
      "outputs": [],
      "source": [
        "spark = SparkSession.builder.appName(\"kitchen_ETL\").config(\"spark.driver.extraClassPath\",\"/content/postgresql-42.2.9.jar\").getOrCreate()"
      ]
    },
    {
      "cell_type": "code",
      "execution_count": 5,
      "metadata": {
        "id": "k7rksQs_8kiI"
      },
      "outputs": [],
      "source": [
        "# Import Amazon Data\n",
        "from pyspark import SparkFiles\n",
        "url = 'https://s3.amazonaws.com/amazon-reviews-pds/tsv/amazon_reviews_us_Home_Improvement_v1_00.tsv.gz'\n",
        "spark.sparkContext.addFile(url)"
      ]
    },
    {
      "cell_type": "code",
      "execution_count": 35,
      "metadata": {
        "id": "cH69PvHZ-tI_"
      },
      "outputs": [],
      "source": [
        "homeimp_df = spark.read.csv(SparkFiles.get('amazon_reviews_us_Home_Improvement_v1_00.tsv.gz'), sep='\\t', header=True)\n",
        "homeimp_df = homeimp_df.dropDuplicates(['review_id'])"
      ]
    },
    {
      "cell_type": "code",
      "execution_count": 36,
      "metadata": {
        "colab": {
          "base_uri": "https://localhost:8080/"
        },
        "id": "VhgCMZC9--uh",
        "outputId": "d0cd8f7f-1242-4434-c47d-504cf73d374d"
      },
      "outputs": [
        {
          "name": "stdout",
          "output_type": "stream",
          "text": [
            "+-----------+-----------+--------------+----------+--------------+--------------------+----------------+-----------+-------------+-----------+----+-----------------+--------------------+--------------------+-----------+\n",
            "|marketplace|customer_id|     review_id|product_id|product_parent|       product_title|product_category|star_rating|helpful_votes|total_votes|vine|verified_purchase|     review_headline|         review_body|review_date|\n",
            "+-----------+-----------+--------------+----------+--------------+--------------------+----------------+-----------+-------------+-----------+----+-----------------+--------------------+--------------------+-----------+\n",
            "|         US|   48881148|R215C9BDXTDQOW|B00FR4YQYK|     381800308|SadoTech Model C ...|Home Improvement|          4|            0|          0|   N|                Y|          Four Stars|        good product| 2015-08-31|\n",
            "|         US|   47882936|R1DTPUV1J57YHA|B00439MYYE|     921341748|iSpring T32M 3.2 ...|Home Improvement|          5|            0|          0|   N|                Y|Good price, quick...|Good price, quick...| 2015-08-31|\n",
            "|         US|   44435471| RFAZK5EWKJWOU|B00002N762|      56053291|Schlage F10CS V E...|Home Improvement|          5|            0|          0|   N|                Y|          Five Stars|       Excellent...!| 2015-08-31|\n",
            "|         US|   28377689|R2XT8X0O0WS1AL|B000QFCP1G|     595928517|Citri-Strip QCG73...|Home Improvement|          5|            0|          0|   N|                Y|Although *slightl...|Although *slightl...| 2015-08-31|\n",
            "|         US|   50134766|R14GRNANKO2Y2J|B00WRCRKOI|     417053744|SleekLighting Bul...|Home Improvement|          5|            0|          0|   N|                Y|      Great Adapters|These adapters ar...| 2015-08-31|\n",
            "+-----------+-----------+--------------+----------+--------------+--------------------+----------------+-----------+-------------+-----------+----+-----------------+--------------------+--------------------+-----------+\n",
            "only showing top 5 rows\n",
            "\n"
          ]
        }
      ],
      "source": [
        "homeimp_df.show(5)"
      ]
    },
    {
      "cell_type": "code",
      "execution_count": 37,
      "metadata": {
        "colab": {
          "base_uri": "https://localhost:8080/"
        },
        "id": "c6AMz2x8_JLa",
        "outputId": "e748deb1-cf43-4635-977a-e3dad68ba147"
      },
      "outputs": [
        {
          "data": {
            "text/plain": [
              "2634781"
            ]
          },
          "execution_count": 37,
          "metadata": {},
          "output_type": "execute_result"
        }
      ],
      "source": [
        "# Count the number of records (rows) in the dataset.\n",
        "homeimp_df.count()"
      ]
    },
    {
      "cell_type": "markdown",
      "metadata": {
        "id": "VPYkTr6qh8B7"
      },
      "source": [
        "### Function to set nullable states to match schema"
      ]
    },
    {
      "cell_type": "code",
      "execution_count": 58,
      "metadata": {
        "id": "1uRJOcK8h7S2"
      },
      "outputs": [],
      "source": [
        "import pyspark.sql.functions as F\n",
        "\n",
        "# https://stackoverflow.com/questions/46072411/can-i-change-the-nullability-of-a-column-in-my-spark-dataframe\n",
        "\n",
        "\n",
        "\n",
        "def set_df_columns_nullable(spark, df, column_list, nullable=True):\n",
        "    for struct_field in df.schema:\n",
        "        if struct_field.name in column_list:\n",
        "            struct_field.nullable = nullable\n",
        "    df_mod = spark.createDataFrame(df.rdd, df.schema)\n",
        "    return df_mod"
      ]
    },
    {
      "cell_type": "code",
      "execution_count": null,
      "metadata": {
        "id": "yoMHISJ5BD3x"
      },
      "outputs": [],
      "source": [
        "# Transform the dataset to fit the tables in the schema file. Be sure the DataFrames match in data type and in column name.\n",
        "\n",
        "# Schema: \n",
        "# CREATE TABLE review_id_table (\n",
        "#   review_id TEXT PRIMARY KEY NOT NULL,\n",
        "#   customer_id INTEGER,\n",
        "#   product_id TEXT,\n",
        "#   product_parent INTEGER,\n",
        "#   review_date DATE -- this should be in the formate yyyy-mm-dd\n",
        "# );\n",
        "\n"
      ]
    },
    {
      "cell_type": "code",
      "execution_count": 38,
      "metadata": {
        "colab": {
          "base_uri": "https://localhost:8080/"
        },
        "id": "IrqrxS9x_tAH",
        "outputId": "a271264a-9187-40f8-f101-752a13d10787"
      },
      "outputs": [
        {
          "name": "stdout",
          "output_type": "stream",
          "text": [
            "root\n",
            " |-- marketplace: string (nullable = true)\n",
            " |-- customer_id: string (nullable = true)\n",
            " |-- review_id: string (nullable = true)\n",
            " |-- product_id: string (nullable = true)\n",
            " |-- product_parent: string (nullable = true)\n",
            " |-- product_title: string (nullable = true)\n",
            " |-- product_category: string (nullable = true)\n",
            " |-- star_rating: string (nullable = true)\n",
            " |-- helpful_votes: string (nullable = true)\n",
            " |-- total_votes: string (nullable = true)\n",
            " |-- vine: string (nullable = true)\n",
            " |-- verified_purchase: string (nullable = true)\n",
            " |-- review_headline: string (nullable = true)\n",
            " |-- review_body: string (nullable = true)\n",
            " |-- review_date: string (nullable = true)\n",
            "\n"
          ]
        }
      ],
      "source": [
        "# Check datatypes\n",
        "homeimp_df.printSchema()"
      ]
    },
    {
      "cell_type": "code",
      "execution_count": 49,
      "metadata": {
        "id": "9A-kS_09OrfC"
      },
      "outputs": [],
      "source": [
        "# Convert columns in root dataframe to schema datatype\n",
        "from pyspark.sql.types import IntegerType,DateType\n",
        "homeimp_df = homeimp_df.withColumn('customer_id', homeimp_df['customer_id'].cast(IntegerType()))\n",
        "homeimp_df = homeimp_df.withColumn('product_parent', homeimp_df['product_parent'].cast(IntegerType()))\n",
        "homeimp_df = homeimp_df.withColumn('review_date', homeimp_df['review_date'].cast(DateType()))\n",
        "\n",
        "# vine\n",
        "homeimp_df = homeimp_df.withColumn('star_rating', homeimp_df.star_rating.cast(IntegerType()))\n",
        "homeimp_df = homeimp_df.withColumn('helpful_votes', homeimp_df.helpful_votes.cast(IntegerType()))\n",
        "homeimp_df = homeimp_df.withColumn('total_votes', homeimp_df.total_votes.cast(IntegerType()))"
      ]
    },
    {
      "cell_type": "code",
      "execution_count": 50,
      "metadata": {
        "colab": {
          "base_uri": "https://localhost:8080/"
        },
        "id": "-7efZ4htO4rY",
        "outputId": "b01b5f30-c768-49d5-969e-fe2b1469e58e"
      },
      "outputs": [
        {
          "name": "stdout",
          "output_type": "stream",
          "text": [
            "root\n",
            " |-- marketplace: string (nullable = true)\n",
            " |-- customer_id: integer (nullable = true)\n",
            " |-- review_id: string (nullable = true)\n",
            " |-- product_id: string (nullable = true)\n",
            " |-- product_parent: integer (nullable = true)\n",
            " |-- product_title: string (nullable = true)\n",
            " |-- product_category: string (nullable = true)\n",
            " |-- star_rating: integer (nullable = true)\n",
            " |-- helpful_votes: integer (nullable = true)\n",
            " |-- total_votes: integer (nullable = true)\n",
            " |-- vine: string (nullable = true)\n",
            " |-- verified_purchase: string (nullable = true)\n",
            " |-- review_headline: string (nullable = true)\n",
            " |-- review_body: string (nullable = true)\n",
            " |-- review_date: date (nullable = true)\n",
            "\n"
          ]
        }
      ],
      "source": [
        "homeimp_df.printSchema()"
      ]
    },
    {
      "cell_type": "markdown",
      "metadata": {
        "id": "HB2r3xEqKvrg"
      },
      "source": [
        "### review_id_table table"
      ]
    },
    {
      "cell_type": "code",
      "execution_count": 41,
      "metadata": {
        "colab": {
          "base_uri": "https://localhost:8080/"
        },
        "id": "0Ww7X1T2K4Sz",
        "outputId": "95674a73-1134-46e4-adaf-4f1441018f11"
      },
      "outputs": [
        {
          "name": "stdout",
          "output_type": "stream",
          "text": [
            "+--------------+-----------+----------+--------------+-----------+\n",
            "|     review_id|customer_id|product_id|product_parent|review_date|\n",
            "+--------------+-----------+----------+--------------+-----------+\n",
            "|R215C9BDXTDQOW|   48881148|B00FR4YQYK|     381800308| 2015-08-31|\n",
            "|R1DTPUV1J57YHA|   47882936|B00439MYYE|     921341748| 2015-08-31|\n",
            "+--------------+-----------+----------+--------------+-----------+\n",
            "only showing top 2 rows\n",
            "\n"
          ]
        }
      ],
      "source": [
        "homeimp_review_id_df = homeimp_df.select(['review_id','customer_id','product_id','product_parent','review_date']).dropna()\n",
        "homeimp_review_id_df.show(2)"
      ]
    },
    {
      "cell_type": "code",
      "execution_count": 59,
      "metadata": {
        "colab": {
          "base_uri": "https://localhost:8080/"
        },
        "id": "uXJw1MhvRFKI",
        "outputId": "27b9f52c-191f-40a5-c260-4e807c1fa39c"
      },
      "outputs": [
        {
          "name": "stdout",
          "output_type": "stream",
          "text": [
            "root\n",
            " |-- review_id: string (nullable = false)\n",
            " |-- customer_id: integer (nullable = true)\n",
            " |-- product_id: string (nullable = true)\n",
            " |-- product_parent: integer (nullable = true)\n",
            " |-- review_date: date (nullable = true)\n",
            "\n"
          ]
        }
      ],
      "source": [
        "# fix nullability\n",
        "homeimp_review_id_df = set_df_columns_nullable(spark,homeimp_review_id_df,['review_id'], False)\n",
        "\n",
        "homeimp_review_id_df.printSchema()"
      ]
    },
    {
      "cell_type": "markdown",
      "metadata": {
        "id": "n3ZwXo-qLBpV"
      },
      "source": [
        "### products table"
      ]
    },
    {
      "cell_type": "code",
      "execution_count": 45,
      "metadata": {
        "colab": {
          "base_uri": "https://localhost:8080/"
        },
        "id": "PVciC6pwLEWV",
        "outputId": "0020ecfd-199c-4ba8-cfd1-9a5bcd6ac1c0"
      },
      "outputs": [
        {
          "name": "stdout",
          "output_type": "stream",
          "text": [
            "+----------+--------------------+\n",
            "|product_id|       product_title|\n",
            "+----------+--------------------+\n",
            "|B00FR4YQYK|SadoTech Model C ...|\n",
            "|B00439MYYE|iSpring T32M 3.2 ...|\n",
            "+----------+--------------------+\n",
            "only showing top 2 rows\n",
            "\n"
          ]
        }
      ],
      "source": [
        "homeimp_products_df = homeimp_df.select(['product_id','product_title']).dropna()\n",
        "homeimp_products_df.show(2)"
      ]
    },
    {
      "cell_type": "code",
      "execution_count": 61,
      "metadata": {
        "colab": {
          "base_uri": "https://localhost:8080/"
        },
        "id": "2KZ85OHURJJ3",
        "outputId": "cff59978-ce9c-4d87-a391-1216d6de3b7d"
      },
      "outputs": [
        {
          "name": "stdout",
          "output_type": "stream",
          "text": [
            "root\n",
            " |-- product_id: string (nullable = false)\n",
            " |-- product_title: string (nullable = true)\n",
            "\n"
          ]
        }
      ],
      "source": [
        "# fix nullability\n",
        "homeimp_products_df = set_df_columns_nullable(spark,homeimp_products_df,['product_id'], False)\n",
        "\n",
        "homeimp_products_df.printSchema()"
      ]
    },
    {
      "cell_type": "markdown",
      "metadata": {
        "id": "-zxDzf9PMih4"
      },
      "source": [
        "### customers table"
      ]
    },
    {
      "cell_type": "code",
      "execution_count": 51,
      "metadata": {
        "id": "Ws3Ek2YrMlC5"
      },
      "outputs": [],
      "source": [
        "homeimp_customers_df = homeimp_df.select(['customer_id'])"
      ]
    },
    {
      "cell_type": "code",
      "execution_count": 52,
      "metadata": {
        "colab": {
          "base_uri": "https://localhost:8080/"
        },
        "id": "kRU5mkYySA4r",
        "outputId": "d8f54a3b-a27f-40c9-a101-e2842fc7fe4a"
      },
      "outputs": [
        {
          "name": "stdout",
          "output_type": "stream",
          "text": [
            "+-----------+-----+\n",
            "|customer_id|count|\n",
            "+-----------+-----+\n",
            "|   28377689|    1|\n",
            "|   28258386|    2|\n",
            "|    9967574|    1|\n",
            "|   25153155|    1|\n",
            "|   10088068|    1|\n",
            "+-----------+-----+\n",
            "only showing top 5 rows\n",
            "\n"
          ]
        }
      ],
      "source": [
        "homeimp_customers_df = homeimp_df.groupBy('customer_id').count()\n",
        "homeimp_customers_df.show(5)"
      ]
    },
    {
      "cell_type": "code",
      "execution_count": 53,
      "metadata": {
        "colab": {
          "base_uri": "https://localhost:8080/"
        },
        "id": "YcTOt1uoVJBi",
        "outputId": "8ec5a8cc-813e-44ae-c8b3-271356a17b6b"
      },
      "outputs": [
        {
          "name": "stdout",
          "output_type": "stream",
          "text": [
            "+-----------+--------------+\n",
            "|customer_id|customer_count|\n",
            "+-----------+--------------+\n",
            "|   28377689|             1|\n",
            "|   28258386|             2|\n",
            "|    9967574|             1|\n",
            "|   25153155|             1|\n",
            "|   10088068|             1|\n",
            "+-----------+--------------+\n",
            "only showing top 5 rows\n",
            "\n"
          ]
        }
      ],
      "source": [
        "homeimp_customers_df = homeimp_customers_df.withColumnRenamed('count','customer_count')\n",
        "homeimp_customers_df.show(5)"
      ]
    },
    {
      "cell_type": "code",
      "execution_count": 63,
      "metadata": {
        "colab": {
          "base_uri": "https://localhost:8080/"
        },
        "id": "ow6FVgKTVUSa",
        "outputId": "599a5ead-e10e-4889-e118-86780a25e17b"
      },
      "outputs": [
        {
          "name": "stdout",
          "output_type": "stream",
          "text": [
            "root\n",
            " |-- customer_id: integer (nullable = false)\n",
            " |-- customer_count: long (nullable = true)\n",
            "\n"
          ]
        }
      ],
      "source": [
        "# fix nullability\n",
        "homeimp_customers_df = set_df_columns_nullable(spark,homeimp_customers_df,['customer_id'], False)\n",
        "homeimp_customers_df = set_df_columns_nullable(spark,homeimp_customers_df,['customer_count'], True)\n",
        "\n",
        "homeimp_customers_df.printSchema()"
      ]
    },
    {
      "cell_type": "markdown",
      "metadata": {
        "id": "YXBiNTkGgjv4"
      },
      "source": [
        "### vine table"
      ]
    },
    {
      "cell_type": "code",
      "execution_count": 55,
      "metadata": {
        "colab": {
          "base_uri": "https://localhost:8080/"
        },
        "id": "l3UX5X4jgh78",
        "outputId": "363a81d3-a67c-4256-f67a-c4ed9a7e3104"
      },
      "outputs": [
        {
          "name": "stdout",
          "output_type": "stream",
          "text": [
            "+--------------+-----------+-------------+-----------+----+\n",
            "|     review_id|star_rating|helpful_votes|total_votes|vine|\n",
            "+--------------+-----------+-------------+-----------+----+\n",
            "|R215C9BDXTDQOW|          4|            0|          0|   N|\n",
            "|R1DTPUV1J57YHA|          5|            0|          0|   N|\n",
            "| RFAZK5EWKJWOU|          5|            0|          0|   N|\n",
            "|R2XT8X0O0WS1AL|          5|            0|          0|   N|\n",
            "|R14GRNANKO2Y2J|          5|            0|          0|   N|\n",
            "+--------------+-----------+-------------+-----------+----+\n",
            "only showing top 5 rows\n",
            "\n"
          ]
        }
      ],
      "source": [
        "homeimp_vine_df = homeimp_df.select(['review_id','star_rating','helpful_votes','total_votes','vine'])\n",
        "homeimp_vine_df.show(5)"
      ]
    },
    {
      "cell_type": "code",
      "execution_count": 64,
      "metadata": {
        "colab": {
          "base_uri": "https://localhost:8080/"
        },
        "id": "M329qaw6hxY4",
        "outputId": "7c8689c2-811f-441b-8cb1-415f7ec09ebf"
      },
      "outputs": [
        {
          "name": "stdout",
          "output_type": "stream",
          "text": [
            "root\n",
            " |-- review_id: string (nullable = false)\n",
            " |-- star_rating: integer (nullable = true)\n",
            " |-- helpful_votes: integer (nullable = true)\n",
            " |-- total_votes: integer (nullable = true)\n",
            " |-- vine: string (nullable = true)\n",
            "\n"
          ]
        }
      ],
      "source": [
        "# fix nullability\n",
        "homeimp_vine_df = set_df_columns_nullable(spark, homeimp_vine_df, ['review_id'], False)\n",
        "\n",
        "homeimp_vine_df.printSchema()"
      ]
    },
    {
      "cell_type": "code",
      "execution_count": 66,
      "metadata": {
        "id": "y65r6h0lJZP_"
      },
      "outputs": [],
      "source": [
        "# Load the DataFrames that correspond to tables into an RDS instance. \n",
        "# Note: This process can take up to 10 minutes for each. Be sure that everything is correct before uploading.\n",
        "# from config import aws_url, aws_pw\n",
        "aws_url = 'http'\n",
        "aws_pw = 'pw'\n",
        "\n",
        "mode = \"append\"\n",
        "jdbc_url=f\"jdbc:postgresql://{aws_url}:5432/postgres\"\n",
        "config = {\"user\":\"postgres\", \n",
        "          \"password\": aws_pw, \n",
        "          \"driver\":\"org.postgresql.Driver\"}"
      ]
    },
    {
      "cell_type": "code",
      "execution_count": null,
      "metadata": {
        "id": "LjKBApGmmUaF"
      },
      "outputs": [],
      "source": [
        "df_list =    [homeimp_review_id_df, homeimp_products_df, homeimp_customers_df, homeimp_vine_df]\n",
        "rds_tables = ['review_id_table',    'products',           'customers',         'vine_table']\n",
        "\n",
        "for i in range(len(df_list)):\n",
        "  df_list[i].write.jdbc(url=jdbc_url, table=rds_tables[i], mode=mode, properties=config)"
      ]
    }
  ],
  "metadata": {
    "colab": {
      "collapsed_sections": [],
      "provenance": []
    },
    "kernelspec": {
      "display_name": "Python 3.9.7 ('base')",
      "language": "python",
      "name": "python3"
    },
    "language_info": {
      "name": "python",
      "version": "3.9.7"
    },
    "vscode": {
      "interpreter": {
        "hash": "b522dfdf06a497d1434a6d7b3aa94bccbe99a534de1a9b2244ced98a3405f1a0"
      }
    }
  },
  "nbformat": 4,
  "nbformat_minor": 0
}
