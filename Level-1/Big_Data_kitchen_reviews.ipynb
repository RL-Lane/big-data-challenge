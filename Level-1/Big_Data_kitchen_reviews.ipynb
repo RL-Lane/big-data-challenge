{
  "nbformat": 4,
  "nbformat_minor": 0,
  "metadata": {
    "colab": {
      "provenance": [],
      "collapsed_sections": []
    },
    "kernelspec": {
      "name": "python3",
      "display_name": "Python 3"
    },
    "language_info": {
      "name": "python"
    }
  },
  "cells": [
    {
      "cell_type": "code",
      "execution_count": 1,
      "metadata": {
        "colab": {
          "base_uri": "https://localhost:8080/"
        },
        "id": "YgJZfVPC7UfR",
        "outputId": "3ed2bac4-ee85-4bcc-f123-f1c9d453fdb3"
      },
      "outputs": [
        {
          "output_type": "stream",
          "name": "stdout",
          "text": [
            "Get:1 https://cloud.r-project.org/bin/linux/ubuntu bionic-cran40/ InRelease [3,626 B]\n",
            "Ign:2 https://developer.download.nvidia.com/compute/machine-learning/repos/ubuntu1804/x86_64  InRelease\n",
            "Hit:3 http://archive.ubuntu.com/ubuntu bionic InRelease\n",
            "Hit:4 https://developer.download.nvidia.com/compute/cuda/repos/ubuntu1804/x86_64  InRelease\n",
            "Hit:5 https://developer.download.nvidia.com/compute/machine-learning/repos/ubuntu1804/x86_64  Release\n",
            "Get:6 http://archive.ubuntu.com/ubuntu bionic-updates InRelease [88.7 kB]\n",
            "Hit:7 http://ppa.launchpad.net/c2d4u.team/c2d4u4.0+/ubuntu bionic InRelease\n",
            "Get:8 http://security.ubuntu.com/ubuntu bionic-security InRelease [88.7 kB]\n",
            "Get:9 http://archive.ubuntu.com/ubuntu bionic-backports InRelease [74.6 kB]\n",
            "Hit:10 http://ppa.launchpad.net/cran/libgit2/ubuntu bionic InRelease\n",
            "Hit:11 http://ppa.launchpad.net/deadsnakes/ppa/ubuntu bionic InRelease\n",
            "Hit:12 http://ppa.launchpad.net/graphics-drivers/ppa/ubuntu bionic InRelease\n",
            "Get:14 http://archive.ubuntu.com/ubuntu bionic-updates/restricted amd64 Packages [1,162 kB]\n",
            "Get:15 http://archive.ubuntu.com/ubuntu bionic-updates/main amd64 Packages [3,390 kB]\n",
            "Get:16 http://security.ubuntu.com/ubuntu bionic-security/restricted amd64 Packages [1,121 kB]\n",
            "Get:17 http://security.ubuntu.com/ubuntu bionic-security/main amd64 Packages [2,959 kB]\n",
            "Get:18 http://security.ubuntu.com/ubuntu bionic-security/universe amd64 Packages [1,540 kB]\n",
            "Fetched 10.4 MB in 5s (2,106 kB/s)\n",
            "Reading package lists... Done\n"
          ]
        }
      ],
      "source": [
        "import os\n",
        "# Find the latest version of spark 3.0  from http://www.apache.org/dist/spark/ and enter as the spark version\n",
        "# For example:\n",
        "# spark_version = 'spark-3.0.3'\n",
        "spark_version = 'spark-3.1.3'\n",
        "\n",
        "os.environ['SPARK_VERSION']=spark_version\n",
        "\n",
        "# Install Spark and Java\n",
        "!apt-get update\n",
        "!apt-get install openjdk-8-jdk-headless -qq > /dev/null\n",
        "!wget -q http://www.apache.org/dist/spark/$SPARK_VERSION/$SPARK_VERSION-bin-hadoop2.7.tgz\n",
        "!tar xf $SPARK_VERSION-bin-hadoop2.7.tgz\n",
        "!pip install -q findspark\n",
        "\n",
        "# Set Environment Variables\n",
        "os.environ[\"JAVA_HOME\"] = \"/usr/lib/jvm/java-8-openjdk-amd64\"\n",
        "os.environ[\"SPARK_HOME\"] = f\"/content/{spark_version}-bin-hadoop2.7\"\n",
        "\n",
        "# Start a SparkSession\n",
        "import findspark\n",
        "findspark.init()\n",
        "\n"
      ]
    },
    {
      "cell_type": "code",
      "source": [
        "!wget https://jdbc.postgresql.org/download/postgresql-42.2.9.jar"
      ],
      "metadata": {
        "colab": {
          "base_uri": "https://localhost:8080/"
        },
        "id": "oxa8QwuX7Ywz",
        "outputId": "2a9cb7d0-346b-4312-b647-d4f90a8881d0"
      },
      "execution_count": 2,
      "outputs": [
        {
          "output_type": "stream",
          "name": "stdout",
          "text": [
            "--2022-09-03 01:22:34--  https://jdbc.postgresql.org/download/postgresql-42.2.9.jar\n",
            "Resolving jdbc.postgresql.org (jdbc.postgresql.org)... 72.32.157.228, 2001:4800:3e1:1::228\n",
            "Connecting to jdbc.postgresql.org (jdbc.postgresql.org)|72.32.157.228|:443... connected.\n",
            "HTTP request sent, awaiting response... 200 OK\n",
            "Length: 914037 (893K) [application/java-archive]\n",
            "Saving to: ‘postgresql-42.2.9.jar’\n",
            "\n",
            "postgresql-42.2.9.j 100%[===================>] 892.61K  --.-KB/s    in 0.09s   \n",
            "\n",
            "2022-09-03 01:22:34 (9.51 MB/s) - ‘postgresql-42.2.9.jar’ saved [914037/914037]\n",
            "\n"
          ]
        }
      ]
    },
    {
      "cell_type": "code",
      "source": [
        "from pyspark.sql import SparkSession"
      ],
      "metadata": {
        "id": "xhzylV7R8T8Z"
      },
      "execution_count": 3,
      "outputs": []
    },
    {
      "cell_type": "code",
      "source": [
        "spark = SparkSession.builder.appName(\"kitchen_ETL\").config(\"spark.driver.extraClassPath\",\"/content/postgresql-42.2.9.jar\").getOrCreate()"
      ],
      "metadata": {
        "id": "Z9VEMaEY8djd"
      },
      "execution_count": 5,
      "outputs": []
    },
    {
      "cell_type": "code",
      "source": [
        "# Import Amazon Data\n",
        "from pyspark import SparkFiles\n",
        "url = 'https://s3.amazonaws.com/amazon-reviews-pds/tsv/amazon_reviews_us_Kitchen_v1_00.tsv.gz'\n",
        "spark.sparkContext.addFile(url)"
      ],
      "metadata": {
        "id": "k7rksQs_8kiI"
      },
      "execution_count": 6,
      "outputs": []
    },
    {
      "cell_type": "code",
      "source": [
        "kitchen_df = spark.read.csv(SparkFiles.get('amazon_reviews_us_Kitchen_v1_00.tsv.gz'), sep='\\t', header=True)"
      ],
      "metadata": {
        "id": "cH69PvHZ-tI_"
      },
      "execution_count": 26,
      "outputs": []
    },
    {
      "cell_type": "code",
      "source": [
        "kitchen_df.show(5)"
      ],
      "metadata": {
        "colab": {
          "base_uri": "https://localhost:8080/"
        },
        "id": "VhgCMZC9--uh",
        "outputId": "0301e3c6-af72-46f5-d917-de7d60897971"
      },
      "execution_count": 27,
      "outputs": [
        {
          "output_type": "stream",
          "name": "stdout",
          "text": [
            "+-----------+-----------+--------------+----------+--------------+--------------------+----------------+-----------+-------------+-----------+----+-----------------+--------------------+--------------------+-----------+\n",
            "|marketplace|customer_id|     review_id|product_id|product_parent|       product_title|product_category|star_rating|helpful_votes|total_votes|vine|verified_purchase|     review_headline|         review_body|review_date|\n",
            "+-----------+-----------+--------------+----------+--------------+--------------------+----------------+-----------+-------------+-----------+----+-----------------+--------------------+--------------------+-----------+\n",
            "|         US|   37000337|R3DT59XH7HXR9K|B00303FI0G|     529320574|Arthur Court Pape...|         Kitchen|          5|            0|          0|   N|                Y|Beautiful. Looks ...|Beautiful.  Looks...| 2015-08-31|\n",
            "|         US|   15272914|R1LFS11BNASSU8|B00JCZKZN6|     274237558|Olde Thompson Bav...|         Kitchen|          5|            0|          1|   N|                Y| Awesome & Self-ness|I personally have...| 2015-08-31|\n",
            "|         US|   36137863|R296RT05AG0AF6|B00JLIKA5C|     544675303|Progressive Inter...|         Kitchen|          5|            0|          0|   N|                Y|Fabulous and wort...|Fabulous and wort...| 2015-08-31|\n",
            "|         US|   43311049|R3V37XDZ7ZCI3L|B000GBNB8G|     491599489|Zyliss Jumbo Garl...|         Kitchen|          5|            0|          1|   N|                Y|          Five Stars|A must if you lov...| 2015-08-31|\n",
            "|         US|   13763148|R14GU232NQFYX2|B00VJ5KX9S|     353790155|1 X Premier Pizza...|         Kitchen|          5|            0|          0|   N|                Y|     Better than sex|Worth every penny...| 2015-08-31|\n",
            "+-----------+-----------+--------------+----------+--------------+--------------------+----------------+-----------+-------------+-----------+----+-----------------+--------------------+--------------------+-----------+\n",
            "only showing top 5 rows\n",
            "\n"
          ]
        }
      ]
    },
    {
      "cell_type": "code",
      "source": [
        "# Count the number of records (rows) in the dataset.\n",
        "kitchen_df.count()"
      ],
      "metadata": {
        "colab": {
          "base_uri": "https://localhost:8080/"
        },
        "id": "c6AMz2x8_JLa",
        "outputId": "c8e88c9d-7e8b-4609-c105-f1442dfa258d"
      },
      "execution_count": 28,
      "outputs": [
        {
          "output_type": "execute_result",
          "data": {
            "text/plain": [
              "4880466"
            ]
          },
          "metadata": {},
          "execution_count": 28
        }
      ]
    },
    {
      "cell_type": "markdown",
      "source": [
        "### Function to set nullable states to match schema"
      ],
      "metadata": {
        "id": "7F3QQjE3iLyu"
      }
    },
    {
      "cell_type": "code",
      "source": [
        "import pyspark.sql.functions as F\n",
        "\n",
        "# https://stackoverflow.com/questions/46072411/can-i-change-the-nullability-of-a-column-in-my-spark-dataframe\n",
        "\n",
        "\n",
        "\n",
        "def set_df_columns_nullable(spark, df, column_list, nullable=True):\n",
        "    for struct_field in df.schema:\n",
        "        if struct_field.name in column_list:\n",
        "            struct_field.nullable = nullable\n",
        "    df_mod = spark.createDataFrame(df.rdd, df.schema)\n",
        "    return df_mod"
      ],
      "metadata": {
        "id": "AbgOlZ3giL6f"
      },
      "execution_count": 56,
      "outputs": []
    },
    {
      "cell_type": "code",
      "source": [
        "# Transform the dataset to fit the tables in the schema file. Be sure the DataFrames match in data type and in column name.\n",
        "\n",
        "# Schema: \n",
        "# CREATE TABLE review_id_table (\n",
        "#   review_id TEXT PRIMARY KEY NOT NULL,\n",
        "#   customer_id INTEGER,\n",
        "#   product_id TEXT,\n",
        "#   product_parent INTEGER,\n",
        "#   review_date DATE -- this should be in the formate yyyy-mm-dd\n",
        "# );\n",
        "\n"
      ],
      "metadata": {
        "colab": {
          "base_uri": "https://localhost:8080/"
        },
        "id": "yoMHISJ5BD3x",
        "outputId": "e94be81a-de05-4d80-9685-a906efd6e70e"
      },
      "execution_count": 18,
      "outputs": [
        {
          "output_type": "stream",
          "name": "stdout",
          "text": [
            "+--------------+-----------+----------+--------------+-----------+\n",
            "|     review_id|customer_id|product_id|product_parent|review_date|\n",
            "+--------------+-----------+----------+--------------+-----------+\n",
            "|R3DT59XH7HXR9K|   37000337|B00303FI0G|     529320574| 2015-08-31|\n",
            "|R1LFS11BNASSU8|   15272914|B00JCZKZN6|     274237558| 2015-08-31|\n",
            "+--------------+-----------+----------+--------------+-----------+\n",
            "only showing top 2 rows\n",
            "\n"
          ]
        }
      ]
    },
    {
      "cell_type": "code",
      "source": [
        "# Check datatypes\n",
        "kitchen_df.printSchema()"
      ],
      "metadata": {
        "colab": {
          "base_uri": "https://localhost:8080/"
        },
        "id": "IrqrxS9x_tAH",
        "outputId": "7f3a4f4a-9090-40c6-b5b3-4d86371f400c"
      },
      "execution_count": 29,
      "outputs": [
        {
          "output_type": "stream",
          "name": "stdout",
          "text": [
            "root\n",
            " |-- marketplace: string (nullable = true)\n",
            " |-- customer_id: string (nullable = true)\n",
            " |-- review_id: string (nullable = true)\n",
            " |-- product_id: string (nullable = true)\n",
            " |-- product_parent: string (nullable = true)\n",
            " |-- product_title: string (nullable = true)\n",
            " |-- product_category: string (nullable = true)\n",
            " |-- star_rating: string (nullable = true)\n",
            " |-- helpful_votes: string (nullable = true)\n",
            " |-- total_votes: string (nullable = true)\n",
            " |-- vine: string (nullable = true)\n",
            " |-- verified_purchase: string (nullable = true)\n",
            " |-- review_headline: string (nullable = true)\n",
            " |-- review_body: string (nullable = true)\n",
            " |-- review_date: string (nullable = true)\n",
            "\n"
          ]
        }
      ]
    },
    {
      "cell_type": "code",
      "source": [
        "# Convert columns in root dataframe to schema datatype\n",
        "from pyspark.sql.types import IntegerType,DateType\n",
        "kitchen_df = kitchen_df.withColumn('customer_id', kitchen_df.customer_id.cast(IntegerType()))\n",
        "kitchen_df = kitchen_df.withColumn('product_parent', kitchen_df.product_parent.cast(IntegerType()))\n",
        "kitchen_df = kitchen_df.withColumn('review_date', kitchen_df.review_date.cast(DateType()))\n",
        "\n",
        "# vine\n",
        "kitchen_df = kitchen_df.withColumn('star_rating', kitchen_df.star_rating.cast(IntegerType()))\n",
        "kitchen_df = kitchen_df.withColumn('helpful_votes', kitchen_df.helpful_votes.cast(IntegerType()))\n",
        "kitchen_df = kitchen_df.withColumn('total_votes', kitchen_df.total_votes.cast(IntegerType()))"
      ],
      "metadata": {
        "id": "C1IBYyJ-NoV2"
      },
      "execution_count": 41,
      "outputs": []
    },
    {
      "cell_type": "code",
      "source": [
        "kitchen_df.printSchema()"
      ],
      "metadata": {
        "colab": {
          "base_uri": "https://localhost:8080/"
        },
        "id": "8ajgMT4VQgxX",
        "outputId": "8e2d7400-1830-434d-d4b5-f84640a6529c"
      },
      "execution_count": 42,
      "outputs": [
        {
          "output_type": "stream",
          "name": "stdout",
          "text": [
            "root\n",
            " |-- marketplace: string (nullable = true)\n",
            " |-- customer_id: integer (nullable = true)\n",
            " |-- review_id: string (nullable = true)\n",
            " |-- product_id: string (nullable = true)\n",
            " |-- product_parent: integer (nullable = true)\n",
            " |-- product_title: string (nullable = true)\n",
            " |-- product_category: string (nullable = true)\n",
            " |-- star_rating: integer (nullable = true)\n",
            " |-- helpful_votes: integer (nullable = true)\n",
            " |-- total_votes: integer (nullable = true)\n",
            " |-- vine: string (nullable = true)\n",
            " |-- verified_purchase: string (nullable = true)\n",
            " |-- review_headline: string (nullable = true)\n",
            " |-- review_body: string (nullable = true)\n",
            " |-- review_date: date (nullable = true)\n",
            "\n"
          ]
        }
      ]
    },
    {
      "cell_type": "markdown",
      "source": [
        "### review_id_table table"
      ],
      "metadata": {
        "id": "HB2r3xEqKvrg"
      }
    },
    {
      "cell_type": "code",
      "source": [
        "kitchen_review_id_df = kitchen_df.select(['review_id','customer_id','product_id','product_parent','review_date']).dropna()\n",
        "kitchen_review_id_df.show(2)"
      ],
      "metadata": {
        "colab": {
          "base_uri": "https://localhost:8080/"
        },
        "id": "0Ww7X1T2K4Sz",
        "outputId": "c55f38c1-eec8-49a5-c15b-6d72d2b79713"
      },
      "execution_count": 33,
      "outputs": [
        {
          "output_type": "stream",
          "name": "stdout",
          "text": [
            "+--------------+-----------+----------+--------------+-----------+\n",
            "|     review_id|customer_id|product_id|product_parent|review_date|\n",
            "+--------------+-----------+----------+--------------+-----------+\n",
            "|R3DT59XH7HXR9K|   37000337|B00303FI0G|     529320574| 2015-08-31|\n",
            "|R1LFS11BNASSU8|   15272914|B00JCZKZN6|     274237558| 2015-08-31|\n",
            "+--------------+-----------+----------+--------------+-----------+\n",
            "only showing top 2 rows\n",
            "\n"
          ]
        }
      ]
    },
    {
      "cell_type": "code",
      "source": [
        "# fix nullability\n",
        "kitchen_review_id_df = set_df_columns_nullable(spark, kitchen_review_id_df, ['review_id'], False)\n",
        "\n",
        "kitchen_review_id_df.printSchema()"
      ],
      "metadata": {
        "colab": {
          "base_uri": "https://localhost:8080/"
        },
        "id": "9fAD8BMjQ_f3",
        "outputId": "4dd230cc-3cb5-48e7-a552-3db7cb92d479"
      },
      "execution_count": 57,
      "outputs": [
        {
          "output_type": "stream",
          "name": "stdout",
          "text": [
            "root\n",
            " |-- review_id: string (nullable = false)\n",
            " |-- customer_id: integer (nullable = true)\n",
            " |-- product_id: string (nullable = true)\n",
            " |-- product_parent: integer (nullable = true)\n",
            " |-- review_date: date (nullable = true)\n",
            "\n"
          ]
        }
      ]
    },
    {
      "cell_type": "markdown",
      "source": [
        "### products table"
      ],
      "metadata": {
        "id": "n3ZwXo-qLBpV"
      }
    },
    {
      "cell_type": "code",
      "source": [
        "kitchen_products_df = kitchen_df.select(['product_id','product_title']).dropna()\n",
        "kitchen_products_df.show(2)"
      ],
      "metadata": {
        "colab": {
          "base_uri": "https://localhost:8080/"
        },
        "id": "PVciC6pwLEWV",
        "outputId": "25f62c0e-630f-498a-c1c6-a340f385b2fa"
      },
      "execution_count": 37,
      "outputs": [
        {
          "output_type": "stream",
          "name": "stdout",
          "text": [
            "+----------+--------------------+\n",
            "|product_id|       product_title|\n",
            "+----------+--------------------+\n",
            "|B00303FI0G|Arthur Court Pape...|\n",
            "|B00JCZKZN6|Olde Thompson Bav...|\n",
            "+----------+--------------------+\n",
            "only showing top 2 rows\n",
            "\n"
          ]
        }
      ]
    },
    {
      "cell_type": "code",
      "source": [
        "# fix nullability\n",
        "kitchen_products_df = set_df_columns_nullable(spark, kitchen_products_df, ['product_id'], False)\n",
        "\n",
        "kitchen_products_df.printSchema()"
      ],
      "metadata": {
        "colab": {
          "base_uri": "https://localhost:8080/"
        },
        "id": "vwmFQ54oNZ5k",
        "outputId": "4e5cc1d6-436c-421a-f908-a3117dfab778"
      },
      "execution_count": 58,
      "outputs": [
        {
          "output_type": "stream",
          "name": "stdout",
          "text": [
            "root\n",
            " |-- product_id: string (nullable = false)\n",
            " |-- product_title: string (nullable = true)\n",
            "\n"
          ]
        }
      ]
    },
    {
      "cell_type": "markdown",
      "source": [
        "### customers table"
      ],
      "metadata": {
        "id": "sIUIxLycMab-"
      }
    },
    {
      "cell_type": "code",
      "source": [
        "kitchen_customers_df = kitchen_df.select(['customer_id'])"
      ],
      "metadata": {
        "id": "l_lHHiNsMlxs"
      },
      "execution_count": 47,
      "outputs": []
    },
    {
      "cell_type": "code",
      "source": [
        "kitchen_customers_df = kitchen_customers_df.groupBy('customer_id').count()\n",
        "kitchen_customers_df.show()"
      ],
      "metadata": {
        "colab": {
          "base_uri": "https://localhost:8080/"
        },
        "id": "8ey9reY7SBad",
        "outputId": "a11d1891-d227-4729-b648-e53874a3cf7a"
      },
      "execution_count": 48,
      "outputs": [
        {
          "output_type": "stream",
          "name": "stdout",
          "text": [
            "+-----------+-----+\n",
            "|customer_id|count|\n",
            "+-----------+-----+\n",
            "|   23042837|    1|\n",
            "|   48875707|    2|\n",
            "|   48088660|    1|\n",
            "|   20781887|    6|\n",
            "|    1075003|    1|\n",
            "|   28377689|    3|\n",
            "|    8338749|    1|\n",
            "|   39271457|    6|\n",
            "|   38209321|    5|\n",
            "|   51397605|    1|\n",
            "|   45337932|    7|\n",
            "|   12948675|    3|\n",
            "|   38892468|    1|\n",
            "|   43582450|    1|\n",
            "|   13156755|    1|\n",
            "|   13433330|    1|\n",
            "|   17067926|    7|\n",
            "|   13780617|    1|\n",
            "|   50607818|    1|\n",
            "|   33437759|    2|\n",
            "+-----------+-----+\n",
            "only showing top 20 rows\n",
            "\n"
          ]
        }
      ]
    },
    {
      "cell_type": "code",
      "source": [
        "kitchen_customers_df = kitchen_customers_df.withColumnRenamed('count','customer_count')\n",
        "kitchen_customers_df.show()"
      ],
      "metadata": {
        "colab": {
          "base_uri": "https://localhost:8080/"
        },
        "id": "3QwiuvBGUqCw",
        "outputId": "9ffd09c5-81f9-419f-959e-a4713a7f5e38"
      },
      "execution_count": 49,
      "outputs": [
        {
          "output_type": "stream",
          "name": "stdout",
          "text": [
            "+-----------+--------------+\n",
            "|customer_id|customer_count|\n",
            "+-----------+--------------+\n",
            "|   23042837|             1|\n",
            "|   48875707|             2|\n",
            "|   48088660|             1|\n",
            "|   20781887|             6|\n",
            "|    1075003|             1|\n",
            "|   28377689|             3|\n",
            "|    8338749|             1|\n",
            "|   39271457|             6|\n",
            "|   38209321|             5|\n",
            "|   51397605|             1|\n",
            "|   45337932|             7|\n",
            "|   12948675|             3|\n",
            "|   38892468|             1|\n",
            "|   43582450|             1|\n",
            "|   13156755|             1|\n",
            "|   13433330|             1|\n",
            "|   17067926|             7|\n",
            "|   13780617|             1|\n",
            "|   50607818|             1|\n",
            "|   33437759|             2|\n",
            "+-----------+--------------+\n",
            "only showing top 20 rows\n",
            "\n"
          ]
        }
      ]
    },
    {
      "cell_type": "code",
      "source": [
        "# fix nullability\n",
        "kitchen_customers_df = set_df_columns_nullable(spark, kitchen_customers_df, ['customer_id'], False)\n",
        "kitchen_customers_df = set_df_columns_nullable(spark, kitchen_customers_df, ['customer_count'])\n",
        "\n",
        "kitchen_customers_df.printSchema()"
      ],
      "metadata": {
        "colab": {
          "base_uri": "https://localhost:8080/"
        },
        "id": "8cJSG1AUVYHK",
        "outputId": "54020d1a-9a12-4400-f153-46f09b0a21a0"
      },
      "execution_count": 59,
      "outputs": [
        {
          "output_type": "stream",
          "name": "stdout",
          "text": [
            "root\n",
            " |-- customer_id: integer (nullable = false)\n",
            " |-- customer_count: long (nullable = true)\n",
            "\n"
          ]
        }
      ]
    },
    {
      "cell_type": "markdown",
      "source": [
        "### vine table"
      ],
      "metadata": {
        "id": "_32hvUTLgfot"
      }
    },
    {
      "cell_type": "code",
      "source": [
        "kitchen_vine_df = kitchen_df.select(['review_id','star_rating','helpful_votes','total_votes','vine'])\n",
        "kitchen_vine_df.show(5)"
      ],
      "metadata": {
        "colab": {
          "base_uri": "https://localhost:8080/"
        },
        "id": "Q1CGRgwygeZX",
        "outputId": "f3790a38-b953-4ce0-dec1-e9a6dcbd18eb"
      },
      "execution_count": 53,
      "outputs": [
        {
          "output_type": "stream",
          "name": "stdout",
          "text": [
            "+--------------+-----------+-------------+-----------+----+\n",
            "|     review_id|star_rating|helpful_votes|total_votes|vine|\n",
            "+--------------+-----------+-------------+-----------+----+\n",
            "|R3DT59XH7HXR9K|          5|            0|          0|   N|\n",
            "|R1LFS11BNASSU8|          5|            0|          1|   N|\n",
            "|R296RT05AG0AF6|          5|            0|          0|   N|\n",
            "|R3V37XDZ7ZCI3L|          5|            0|          1|   N|\n",
            "|R14GU232NQFYX2|          5|            0|          0|   N|\n",
            "+--------------+-----------+-------------+-----------+----+\n",
            "only showing top 5 rows\n",
            "\n"
          ]
        }
      ]
    },
    {
      "cell_type": "code",
      "source": [
        "# fix nullability\n",
        "kitchen_vine_df = set_df_columns_nullable(spark, kitchen_vine_df, ['review_id'], False)\n",
        "\n",
        "kitchen_vine_df.printSchema()"
      ],
      "metadata": {
        "colab": {
          "base_uri": "https://localhost:8080/"
        },
        "id": "QLq73pYRgz3X",
        "outputId": "545a84cc-4ec1-4447-8bad-26b2bcf2c51b"
      },
      "execution_count": 60,
      "outputs": [
        {
          "output_type": "stream",
          "name": "stdout",
          "text": [
            "root\n",
            " |-- review_id: string (nullable = false)\n",
            " |-- star_rating: integer (nullable = true)\n",
            " |-- helpful_votes: integer (nullable = true)\n",
            " |-- total_votes: integer (nullable = true)\n",
            " |-- vine: string (nullable = true)\n",
            "\n"
          ]
        }
      ]
    },
    {
      "cell_type": "code",
      "source": [
        "# Load the DataFrames that correspond to tables into an RDS instance. \n",
        "# Note: This process can take up to 10 minutes for each. Be sure that everything is correct before uploading.\n",
        "# from config import aws_url, aws_pw\n",
        "aws_url = 'http'\n",
        "aws_pw = 'pw'\n",
        "\n",
        "mode = \"append\"\n",
        "jdbc_url=f\"jdbc:postgresql://{aws_url}:5432/postgres\"\n",
        "config = {\"user\":\"postgres\", \n",
        "          \"password\": aws_pw, \n",
        "          \"driver\":\"org.postgresql.Driver\"}"
      ],
      "metadata": {
        "id": "y65r6h0lJZP_"
      },
      "execution_count": 63,
      "outputs": []
    },
    {
      "cell_type": "code",
      "source": [
        "df_list =    [kitchen_review_id_df, kitchen_products_df, kitchen_customers_df, kitchen_vine_df]\n",
        "rds_tables = ['review_id_table',    'products',           'customers',         'vine_table']\n",
        "\n",
        "for i in range(len(df_list)):\n",
        "  df_list[i].write.jdbc(url=jdbc_url, table=rds_tables[i], mode=mode, properties=config)"
      ],
      "metadata": {
        "id": "wS7jmRZmn6fu"
      },
      "execution_count": null,
      "outputs": []
    }
  ]
}